{
  "nbformat": 4,
  "nbformat_minor": 0,
  "metadata": {
    "colab": {
      "name": "google_currency.ipynb",
      "provenance": [],
      "collapsed_sections": []
    },
    "kernelspec": {
      "name": "python3",
      "display_name": "Python 3"
    }
  },
  "cells": [
    {
      "cell_type": "markdown",
      "metadata": {
        "id": "u4v7wQ92D5It",
        "colab_type": "text"
      },
      "source": [
        "## Python program to convert the currency of one country to that of another country\n",
        "\n",
        " we will use google_converter to do this currency convertion python program"
      ]
    },
    {
      "cell_type": "code",
      "metadata": {
        "id": "5cDMB5A1_Yky",
        "colab_type": "code",
        "colab": {
          "base_uri": "https://localhost:8080/",
          "height": 138
        },
        "outputId": "4c5830f3-683f-42cc-bdcf-f23afecf11e0"
      },
      "source": [
        "#installing google_converter\n",
        "!pip install google_currency\n"
      ],
      "execution_count": 1,
      "outputs": [
        {
          "output_type": "stream",
          "text": [
            "Requirement already satisfied: google_currency in /usr/local/lib/python3.6/dist-packages (1.0.9)\n",
            "Requirement already satisfied: requests in /usr/local/lib/python3.6/dist-packages (from google_currency) (2.23.0)\n",
            "Requirement already satisfied: idna<3,>=2.5 in /usr/local/lib/python3.6/dist-packages (from requests->google_currency) (2.10)\n",
            "Requirement already satisfied: urllib3!=1.25.0,!=1.25.1,<1.26,>=1.21.1 in /usr/local/lib/python3.6/dist-packages (from requests->google_currency) (1.24.3)\n",
            "Requirement already satisfied: chardet<4,>=3.0.2 in /usr/local/lib/python3.6/dist-packages (from requests->google_currency) (3.0.4)\n",
            "Requirement already satisfied: certifi>=2017.4.17 in /usr/local/lib/python3.6/dist-packages (from requests->google_currency) (2020.6.20)\n"
          ],
          "name": "stdout"
        }
      ]
    },
    {
      "cell_type": "code",
      "metadata": {
        "id": "lB_HHCSU_f2K",
        "colab_type": "code",
        "colab": {}
      },
      "source": [
        "#importing convert from google_currency\n",
        "from google_currency import convert"
      ],
      "execution_count": 2,
      "outputs": []
    },
    {
      "cell_type": "code",
      "metadata": {
        "id": "eoEz1d6U_x37",
        "colab_type": "code",
        "colab": {
          "base_uri": "https://localhost:8080/",
          "height": 34
        },
        "outputId": "1c861ed6-c24d-4633-c29d-1a16d5744696"
      },
      "source": [
        "#converting AUD to USD \n",
        "Money = convert(\"AUD\", \"USD\", 1)\n",
        "\n",
        "#printing the converted currency\n",
        "print(Money)"
      ],
      "execution_count": 3,
      "outputs": [
        {
          "output_type": "stream",
          "text": [
            "{\"from\": \"AUD\", \"to\": \"USD\", \"amount\": \"0.71\", \"converted\": true}\n"
          ],
          "name": "stdout"
        }
      ]
    }
  ]
}